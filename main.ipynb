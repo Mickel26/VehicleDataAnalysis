{
 "cells": [
  {
   "cell_type": "code",
   "execution_count": 38,
   "id": "63f26621-3209-4df3-85fe-b48b8efd2a74",
   "metadata": {},
   "outputs": [],
   "source": [
    "import pandas as pd\n",
    "from sklearn.tree import DecisionTreeRegressor\n",
    "from sklearn.model_selection import train_test_split\n",
    "from sklearn.metrics import mean_squared_error, r2_score\n",
    "import joblib\n",
    "from sklearn import tree\n",
    "\n",
    "vehicle_data = pd.read_csv('./Vehicle Price.csv')\n",
    "X = vehicle_data.drop(columns=['price', 'description'])\n",
    "X = pd.get_dummies(X)\n",
    "\n",
    "y = pd.to_numeric(vehicle_data['price'], errors='coerce')\n",
    "\n",
    "mask = y.notnull()\n",
    "X = X[mask]\n",
    "y = y[mask]\n",
    "\n",
    "X_train, X_test, y_train, y_test = train_test_split(X, y, test_size=0.1)\n",
    "\n",
    "model = DecisionTreeRegressor()\n",
    "model.fit(X_train.values, y_train)\n",
    "\n",
    "model = joblib.load('vehicle_price_model.joblib')\n",
    "tree.export_graphviz(model, out_file='vehicle_price_tree.dot', feature_names=X.columns, label='all', rounded=True, filled=True)"
   ]
  },
  {
   "cell_type": "code",
   "execution_count": 39,
   "id": "557e32b3",
   "metadata": {},
   "outputs": [
    {
     "name": "stdout",
     "output_type": "stream",
     "text": [
      "Mean Squared Error: 1598264.4016439908\n",
      "R2 Score: 0.9945391810897177\n"
     ]
    }
   ],
   "source": [
    "predictions = model.predict(X_test.values)\n",
    "\n",
    "mse = mean_squared_error(y_test, predictions)\n",
    "r2 = r2_score(y_test, predictions)\n",
    "\n",
    "print(\"Mean Squared Error:\", mse)\n",
    "print(\"R2 Score:\", r2)"
   ]
  },
  {
   "cell_type": "code",
   "execution_count": null,
   "id": "6ec97241",
   "metadata": {},
   "outputs": [],
   "source": []
  }
 ],
 "metadata": {
  "kernelspec": {
   "display_name": "Python 3",
   "language": "python",
   "name": "python3"
  },
  "language_info": {
   "codemirror_mode": {
    "name": "ipython",
    "version": 3
   },
   "file_extension": ".py",
   "mimetype": "text/x-python",
   "name": "python",
   "nbconvert_exporter": "python",
   "pygments_lexer": "ipython3",
   "version": "3.13.0"
  }
 },
 "nbformat": 4,
 "nbformat_minor": 5
}
