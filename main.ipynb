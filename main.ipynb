{
 "cells": [
  {
   "cell_type": "code",
   "execution_count": 65,
   "id": "63f26621-3209-4df3-85fe-b48b8efd2a74",
   "metadata": {},
   "outputs": [
    {
     "name": "stdout",
     "output_type": "stream",
     "text": [
      "      year  cylinders  mileage  doors\n",
      "0     2024        6.0     10.0    4.0\n",
      "1     2024        6.0      1.0    4.0\n",
      "2     2024        8.0      0.0    4.0\n",
      "3     2023        8.0     32.0    4.0\n",
      "4     2024        6.0     10.0    4.0\n",
      "...    ...        ...      ...    ...\n",
      "997   2024        4.0     10.0    3.0\n",
      "998   2024        4.0      0.0    4.0\n",
      "999   2024        6.0     20.0    4.0\n",
      "1000  2024        6.0      6.0    4.0\n",
      "1001  2024        8.0     31.0    4.0\n",
      "\n",
      "[979 rows x 4 columns] 0       74600.0\n",
      "1       50170.0\n",
      "2       96410.0\n",
      "3       46835.0\n",
      "4       81663.0\n",
      "         ...   \n",
      "997     59037.0\n",
      "998     49720.0\n",
      "999     69085.0\n",
      "1000    43495.0\n",
      "1001    48995.0\n",
      "Name: price, Length: 979, dtype: float64\n"
     ]
    }
   ],
   "source": [
    "import pandas as pd\n",
    "from sklearn.tree import DecisionTreeRegressor\n",
    "from sklearn.model_selection import train_test_split\n",
    "\n",
    "vehicle_data = pd.read_csv('./Vehicle Price.csv')\n",
    "X = vehicle_data.drop(columns=['price'])\n",
    "X = X.select_dtypes(include='number')\n",
    "\n",
    "y = pd.to_numeric(vehicle_data['price'], errors='coerce')\n",
    "\n",
    "mask = y.notnull()\n",
    "X = X[mask]\n",
    "y = y[mask]\n",
    "\n",
    "X_train, X_test, y_train, y_test = train_test_split(X, y, test_size=0.2)\n",
    "\n",
    "model = DecisionTreeRegressor()\n",
    "model.fit(X_train.values, y_train)\n",
    "\n",
    "print(X, y)"
   ]
  },
  {
   "cell_type": "code",
   "execution_count": 60,
   "id": "557e32b3",
   "metadata": {},
   "outputs": [
    {
     "data": {
      "text/plain": [
       "array([50486., 35821.])"
      ]
     },
     "execution_count": 60,
     "metadata": {},
     "output_type": "execute_result"
    }
   ],
   "source": [
    "predictions = model.predict([[2024, 6.0, 27.0, 3.0], [2022, 4.0, 21.0, 5.0]])\n",
    "predictions"
   ]
  },
  {
   "cell_type": "code",
   "execution_count": null,
   "id": "6ec97241",
   "metadata": {},
   "outputs": [],
   "source": []
  }
 ],
 "metadata": {
  "kernelspec": {
   "display_name": "Python 3",
   "language": "python",
   "name": "python3"
  },
  "language_info": {
   "codemirror_mode": {
    "name": "ipython",
    "version": 3
   },
   "file_extension": ".py",
   "mimetype": "text/x-python",
   "name": "python",
   "nbconvert_exporter": "python",
   "pygments_lexer": "ipython3",
   "version": "3.13.0"
  }
 },
 "nbformat": 4,
 "nbformat_minor": 5
}
